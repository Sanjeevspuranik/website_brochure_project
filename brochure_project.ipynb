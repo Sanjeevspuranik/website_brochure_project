{
 "cells": [
  {
   "cell_type": "markdown",
   "id": "6dd12f03",
   "metadata": {},
   "source": [
    "## 1. First step \n",
    "## Brochure for website"
   ]
  },
  {
   "cell_type": "code",
   "execution_count": 1,
   "id": "4ad21df1",
   "metadata": {},
   "outputs": [
    {
     "name": "stderr",
     "output_type": "stream",
     "text": [
      "c:\\Users\\SANJEEVSPURANIK\\AppData\\Local\\Programs\\Python\\Python312\\Lib\\site-packages\\tqdm\\auto.py:21: TqdmWarning: IProgress not found. Please update jupyter and ipywidgets. See https://ipywidgets.readthedocs.io/en/stable/user_install.html\n",
      "  from .autonotebook import tqdm as notebook_tqdm\n"
     ]
    },
    {
     "data": {
      "text/plain": [
       "True"
      ]
     },
     "execution_count": 1,
     "metadata": {},
     "output_type": "execute_result"
    }
   ],
   "source": [
    "from pprint import pprint\n",
    "from agent_tools.webscraper_tools import WebScraper\n",
    "from IPython.display import Markdown, display\n",
    "from openai import OpenAI\n",
    "import json\n",
    "from dotenv import load_dotenv\n",
    "import os\n",
    "import gradio as gr\n",
    "load_dotenv()"
   ]
  },
  {
   "cell_type": "code",
   "execution_count": 13,
   "id": "0b71a44e",
   "metadata": {},
   "outputs": [],
   "source": [
    "MODEL = \"gpt-4o-mini\"\n",
    "API_KEY = os.getenv(\"OPENAI_API_KEY\")"
   ]
  },
  {
   "cell_type": "code",
   "execution_count": 3,
   "id": "32f8dc22",
   "metadata": {},
   "outputs": [],
   "source": [
    "link_system_prompt = f\"You are provided with a list of links found on a webpage. Strictly follow the rules, Do not change anything\\n\"\n",
    "link_system_prompt += f\"You need to return all the links in JSON format as follows:\\n\"\n",
    "link_system_prompt += \"\"\"{\n",
    "        links: [\n",
    "            {\"type\": \"about page\", \"url\":\"https://example.com/about\"},\n",
    "            {\"type\": \"careers\", \"url\":\"https://example.com/careers\"}\n",
    "    ] \n",
    "}\"\"\""
   ]
  },
  {
   "cell_type": "code",
   "execution_count": 4,
   "id": "0697cdc9",
   "metadata": {},
   "outputs": [],
   "source": [
    "def get_links_user_prompt(website):\n",
    "    user_prompt = f\"Here is the list of links on the webpage: {website.url}\\n\"\n",
    "    user_prompt += \"Please decide which of these are relevant web links for a brochure about company, respond with the full https URL: Do not include Terms of Service, Privacy Policy, Cookie Policy, or any other legal links such as linkedIn, youtube, X, twitter, etc. Please only include links for given URL from available URLs only\\n\"\n",
    "    user_prompt += f\"Links: (some might be relative links):\\n\"\n",
    "    user_prompt += f\"\\n\".join(website.get_all_links())\n",
    "    return user_prompt"
   ]
  },
  {
   "cell_type": "code",
   "execution_count": 5,
   "id": "d44dc69f",
   "metadata": {},
   "outputs": [],
   "source": [
    "client = OpenAI(api_key=API_KEY)"
   ]
  },
  {
   "cell_type": "code",
   "execution_count": 6,
   "id": "171c75f4",
   "metadata": {},
   "outputs": [],
   "source": [
    "def get_links(url):\n",
    "    website = WebScraper(url)\n",
    "    response = client.chat.completions.create(\n",
    "        model=MODEL,\n",
    "        messages=[\n",
    "            {\"role\": \"system\", \"content\": link_system_prompt},\n",
    "            {\"role\": \"user\", \"content\": get_links_user_prompt(website)},\n",
    "        ],\n",
    "        response_format={\"type\": \"json_object\"},\n",
    "    )\n",
    "    result = response.choices[0].message.content\n",
    "    if result is None:\n",
    "        return {\"links\": []}\n",
    "    cleaned_result = result.strip(\"```json\").strip(\"```\")\n",
    "    display(Markdown(result))\n",
    "    return json.loads(cleaned_result)"
   ]
  },
  {
   "cell_type": "code",
   "execution_count": 7,
   "id": "f8fa2a20",
   "metadata": {},
   "outputs": [],
   "source": [
    "def get_all_details(url):\n",
    "    result = \"Landing page:\\n\"\n",
    "    \n",
    "    landing_content = WebScraper(url).get_body()\n",
    "    result += landing_content if landing_content else \"[Failed to fetch landing page]\\n\"\n",
    "\n",
    "    links_dict = get_links(url)\n",
    "\n",
    "    for link in links_dict['links']:\n",
    "        result += f\"\\n\\n{link['type'].capitalize()}:\\n\"\n",
    "        link_content = WebScraper(link['url']).get_body()\n",
    "        result += link_content if link_content else f\"[Failed to fetch {link['url']}]\\n\"\n",
    "\n",
    "    return result"
   ]
  },
  {
   "cell_type": "code",
   "execution_count": 8,
   "id": "579c1c93",
   "metadata": {},
   "outputs": [],
   "source": [
    "brochure_system_prompt = \"You are an assistant thaat analyzes the content of several relevant pages from copany website and creates a short brochre about the company for prospective customers, \\\n",
    "    investors. Respond in markdown format. Include details of comppany culture, custumers and careers/jobs if you have the information.\""
   ]
  },
  {
   "cell_type": "code",
   "execution_count": 9,
   "id": "48ed742c",
   "metadata": {},
   "outputs": [],
   "source": [
    "def get_brochure_user_prompt(company_name, url):\n",
    "    user_prompt = f\"You are looking at a company called: {company_name}\\n\"\n",
    "    user_prompt += f\"Here is the content from several relevant pages on their website: {url}\\n\"\n",
    "    user_prompt += get_all_details(url)\n",
    "    user_prompt = user_prompt[:20_000] # Truncate to first 10,000 characters\n",
    "    return user_prompt"
   ]
  },
  {
   "cell_type": "code",
   "execution_count": 10,
   "id": "61761504",
   "metadata": {},
   "outputs": [],
   "source": [
    "def create_brochure_sync(company_name, url):\n",
    "    stream = client.chat.completions.create(\n",
    "        model=MODEL,\n",
    "        messages=[\n",
    "            {\"role\": \"system\", \"content\": brochure_system_prompt},\n",
    "            {\"role\": \"user\", \"content\": get_brochure_user_prompt(company_name, url)},\n",
    "        ],\n",
    "        stream=True\n",
    "    )\n",
    "    response = \"\"\n",
    "    for chunk in stream:\n",
    "        response += chunk.choices[0].delta.content or \"\"\n",
    "        yield response"
   ]
  },
  {
   "cell_type": "code",
   "execution_count": null,
   "id": "bfab6f88",
   "metadata": {},
   "outputs": [
    {
     "name": "stderr",
     "output_type": "stream",
     "text": [
      "c:\\Users\\SANJEEVSPURANIK\\AppData\\Local\\Programs\\Python\\Python312\\Lib\\site-packages\\gradio\\interface.py:418: UserWarning: The `allow_flagging` parameter in `Interface` is deprecated. Use `flagging_mode` instead.\n",
      "  warnings.warn(\n"
     ]
    },
    {
     "name": "stdout",
     "output_type": "stream",
     "text": [
      "* Running on local URL:  http://0.0.0.0:7860\n",
      "* To create a public link, set `share=True` in `launch()`.\n"
     ]
    },
    {
     "data": {
      "text/html": [
       "<div><iframe src=\"http://localhost:7860/\" width=\"100%\" height=\"500\" allow=\"autoplay; camera; microphone; clipboard-read; clipboard-write;\" frameborder=\"0\" allowfullscreen></iframe></div>"
      ],
      "text/plain": [
       "<IPython.core.display.HTML object>"
      ]
     },
     "metadata": {},
     "output_type": "display_data"
    },
    {
     "data": {
      "text/plain": []
     },
     "execution_count": 11,
     "metadata": {},
     "output_type": "execute_result"
    },
    {
     "name": "stdout",
     "output_type": "stream",
     "text": [
      "[INFO] Initialized WebScraper for URL: https://www.google.com\n",
      "[INFO] Extracting body content...\n",
      "[INFO] Fetching content from https://www.google.com\n",
      "[INFO] Successfully fetched content from https://www.google.com\n",
      "[INFO] Successfully extracted body content.\n",
      "[INFO] Initialized WebScraper for URL: https://www.google.com\n",
      "[INFO] Extracting all hyperlinks...\n",
      "[INFO] Fetching content from https://www.google.com\n",
      "[INFO] Successfully fetched content from https://www.google.com\n",
      "[INFO] Found 27 hyperlinks.\n"
     ]
    },
    {
     "data": {
      "text/markdown": [
       "{\n",
       "    \"links\": [\n",
       "        {\"type\": \"about page\", \"url\": \"https://www.google.co.in/intl/en/about/products?tab=wh\"},\n",
       "        {\"type\": \"about page\", \"url\": \"http://www.google.co.in/services/\"},\n",
       "        {\"type\": \"about page\", \"url\": \"https://www.google.co.in/intl/en/about.html\"}\n",
       "    ]\n",
       "}"
      ],
      "text/plain": [
       "<IPython.core.display.Markdown object>"
      ]
     },
     "metadata": {},
     "output_type": "display_data"
    },
    {
     "name": "stdout",
     "output_type": "stream",
     "text": [
      "[INFO] Initialized WebScraper for URL: https://www.google.co.in/intl/en/about/products?tab=wh\n",
      "[INFO] Extracting body content...\n",
      "[INFO] Fetching content from https://www.google.co.in/intl/en/about/products?tab=wh\n",
      "[INFO] Successfully fetched content from https://www.google.co.in/intl/en/about/products?tab=wh\n",
      "[INFO] Successfully extracted body content.\n",
      "[INFO] Initialized WebScraper for URL: http://www.google.co.in/services/\n",
      "[INFO] Extracting body content...\n",
      "[INFO] Fetching content from http://www.google.co.in/services/\n",
      "[INFO] Successfully fetched content from http://www.google.co.in/services/\n",
      "[INFO] Successfully extracted body content.\n",
      "[INFO] Initialized WebScraper for URL: https://www.google.co.in/intl/en/about.html\n",
      "[INFO] Extracting body content...\n",
      "[INFO] Fetching content from https://www.google.co.in/intl/en/about.html\n",
      "[INFO] Successfully fetched content from https://www.google.co.in/intl/en/about.html\n",
      "[INFO] Successfully extracted body content.\n",
      "[INFO] Initialized WebScraper for URL: https://www.google.com/\n",
      "[INFO] Extracting body content...\n",
      "[INFO] Fetching content from https://www.google.com/\n",
      "[INFO] Successfully fetched content from https://www.google.com/\n",
      "[INFO] Successfully extracted body content.\n",
      "[INFO] Initialized WebScraper for URL: https://www.google.com/\n",
      "[INFO] Extracting all hyperlinks...\n",
      "[INFO] Fetching content from https://www.google.com/\n",
      "[INFO] Successfully fetched content from https://www.google.com/\n",
      "[INFO] Found 27 hyperlinks.\n"
     ]
    },
    {
     "data": {
      "text/markdown": [
       "{\n",
       "    \"links\": [\n",
       "        {\"type\": \"about page\", \"url\": \"https://www.google.co.in/intl/en/about/products?tab=wh\"},\n",
       "        {\"type\": \"careers\", \"url\": \"http://www.google.co.in/services/\"}\n",
       "    ]\n",
       "}"
      ],
      "text/plain": [
       "<IPython.core.display.Markdown object>"
      ]
     },
     "metadata": {},
     "output_type": "display_data"
    },
    {
     "name": "stdout",
     "output_type": "stream",
     "text": [
      "[INFO] Initialized WebScraper for URL: https://www.google.co.in/intl/en/about/products?tab=wh\n",
      "[INFO] Extracting body content...\n",
      "[INFO] Fetching content from https://www.google.co.in/intl/en/about/products?tab=wh\n",
      "[INFO] Successfully fetched content from https://www.google.co.in/intl/en/about/products?tab=wh\n",
      "[INFO] Successfully extracted body content.\n",
      "[INFO] Initialized WebScraper for URL: http://www.google.co.in/services/\n",
      "[INFO] Extracting body content...\n",
      "[INFO] Fetching content from http://www.google.co.in/services/\n",
      "[INFO] Successfully fetched content from http://www.google.co.in/services/\n",
      "[INFO] Successfully extracted body content.\n",
      "[INFO] Initialized WebScraper for URL: \n",
      "[INFO] Extracting body content...\n",
      "[INFO] Fetching content from \n",
      "[ERROR] Exception while fetching : Invalid URL '': No scheme supplied. Perhaps you meant https://?\n",
      "[ERROR] Failed to retrieve content for body extraction.\n",
      "[INFO] Initialized WebScraper for URL: \n",
      "[INFO] Extracting all hyperlinks...\n",
      "[INFO] Fetching content from \n",
      "[ERROR] Exception while fetching : Invalid URL '': No scheme supplied. Perhaps you meant https://?\n",
      "[ERROR] Failed to retrieve content for link extraction.\n"
     ]
    },
    {
     "data": {
      "text/markdown": [
       "{\n",
       "    \"links\": []\n",
       "}"
      ],
      "text/plain": [
       "<IPython.core.display.Markdown object>"
      ]
     },
     "metadata": {},
     "output_type": "display_data"
    },
    {
     "name": "stdout",
     "output_type": "stream",
     "text": [
      "[INFO] Initialized WebScraper for URL: https://www.google.com\n",
      "[INFO] Extracting body content...\n",
      "[INFO] Fetching content from https://www.google.com\n",
      "[INFO] Successfully fetched content from https://www.google.com\n",
      "[INFO] Successfully extracted body content.\n",
      "[INFO] Initialized WebScraper for URL: https://www.google.com\n",
      "[INFO] Extracting all hyperlinks...\n",
      "[INFO] Fetching content from https://www.google.com\n",
      "[INFO] Successfully fetched content from https://www.google.com\n",
      "[INFO] Found 27 hyperlinks.\n"
     ]
    },
    {
     "data": {
      "text/markdown": [
       "{\n",
       "    \"links\": [\n",
       "        {\"type\": \"about page\", \"url\":\"https://www.google.co.in/intl/en/about/products?tab=wh\"}\n",
       "    ] \n",
       "}"
      ],
      "text/plain": [
       "<IPython.core.display.Markdown object>"
      ]
     },
     "metadata": {},
     "output_type": "display_data"
    },
    {
     "name": "stdout",
     "output_type": "stream",
     "text": [
      "[INFO] Initialized WebScraper for URL: https://www.google.co.in/intl/en/about/products?tab=wh\n",
      "[INFO] Extracting body content...\n",
      "[INFO] Fetching content from https://www.google.co.in/intl/en/about/products?tab=wh\n",
      "[INFO] Successfully fetched content from https://www.google.co.in/intl/en/about/products?tab=wh\n",
      "[INFO] Successfully extracted body content.\n"
     ]
    }
   ],
   "source": [
    "gr.Interface(\n",
    "    fn=create_brochure_sync,\n",
    "    inputs=[\n",
    "        gr.Textbox(label=\"🧾 Company Name\", placeholder=\"e.g. Acme Corp\", lines=1),\n",
    "        gr.Textbox(label=\"🌐 Company Website URL\", placeholder=\"e.g. https://www.acme.com\", lines=1)\n",
    "    ],\n",
    "    outputs=gr.Markdown(label=\"📄 Generated Brochure\"),\n",
    "    title=\"✨ AI-Powered Brochure Generator\",\n",
    "    description=(\n",
    "        \"Provide your company's name and website URL, and let the AI craft a professional brochure \"\n",
    "        \"based on your site's content. Ideal for marketing, presentations, or quick overviews.\"\n",
    "    ),\n",
    "    theme=\"soft\",  # Optional: adds a modern, rounded aesthetic\n",
    "    allow_flagging=\"never\"  # Optional: disables user flagging if not needed\n",
    ").launch()"
   ]
  }
 ],
 "metadata": {
  "kernelspec": {
   "display_name": "Python 3",
   "language": "python",
   "name": "python3"
  },
  "language_info": {
   "codemirror_mode": {
    "name": "ipython",
    "version": 3
   },
   "file_extension": ".py",
   "mimetype": "text/x-python",
   "name": "python",
   "nbconvert_exporter": "python",
   "pygments_lexer": "ipython3",
   "version": "3.12.3"
  }
 },
 "nbformat": 4,
 "nbformat_minor": 5
}
