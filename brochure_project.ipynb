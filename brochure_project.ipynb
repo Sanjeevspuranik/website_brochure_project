{
 "cells": [
  {
   "cell_type": "markdown",
   "id": "6dd12f03",
   "metadata": {},
   "source": [
    "## 1. First step \n",
    "## Brochure for website"
   ]
  },
  {
   "cell_type": "code",
   "execution_count": 68,
   "id": "4ad21df1",
   "metadata": {},
   "outputs": [],
   "source": [
    "from pprint import pprint\n",
    "from agent_tools.webscraper_tools import WebScraper\n",
    "import requests\n",
    "from IPython.display import Markdown, display, update_display\n",
    "from openai import OpenAI\n",
    "import json"
   ]
  },
  {
   "cell_type": "code",
   "execution_count": 69,
   "id": "0b71a44e",
   "metadata": {},
   "outputs": [],
   "source": [
    "MODEL = \"gemma-3n-e4b\"\n",
    "API_KEY = \"lm-studio\""
   ]
  },
  {
   "cell_type": "code",
   "execution_count": 70,
   "id": "32f8dc22",
   "metadata": {},
   "outputs": [],
   "source": [
    "link_system_prompt = f\"You are provided with a list of links found on a webpage. Strictly follow the rules, Do not change anything\\n\"\n",
    "link_system_prompt += f\"You need to return all the links in JSON format as follows:\\n\"\n",
    "link_system_prompt += \"\"\"{\n",
    "        links: [\n",
    "            {\"type\": \"about page\", \"url\":\"https://example.com/about\"},\n",
    "            {\"type\": \"careers\", \"url\":\"https://example.com/careers\"}\n",
    "    ] \n",
    "}\"\"\"\n",
    "    "
   ]
  },
  {
   "cell_type": "code",
   "execution_count": 71,
   "id": "0697cdc9",
   "metadata": {},
   "outputs": [],
   "source": [
    "def get_links_user_prompt(website):\n",
    "    user_prompt = f\"Here is the list of links on the webpage: {website.url}\\n\"\n",
    "    user_prompt += \"Please decide which of these are relevant web links for a brochure about company, respond with the full https URL: Do not include Terms of Service, Privacy Policy, Cookie Policy, or any other legal links such as linkedIn, youtube, X, twitter, etc. Please only include links for given URL from available URLs only\\n\"\n",
    "    user_prompt += f\"Links: (some might be relative links):\\n\"\n",
    "    user_prompt += f\"\\n\".join(website.get_all_links())\n",
    "    return user_prompt"
   ]
  },
  {
   "cell_type": "code",
   "execution_count": 72,
   "id": "d44dc69f",
   "metadata": {},
   "outputs": [],
   "source": [
    "client = OpenAI(base_url=\"http://192.168.31.62:1234/v1\", api_key=API_KEY)"
   ]
  },
  {
   "cell_type": "code",
   "execution_count": 73,
   "id": "171c75f4",
   "metadata": {},
   "outputs": [],
   "source": [
    "def get_links(url):\n",
    "    website = WebScraper(url)\n",
    "    response = client.chat.completions.create(\n",
    "        model=MODEL,\n",
    "        messages=[\n",
    "            {\"role\": \"system\", \"content\": link_system_prompt},\n",
    "            {\"role\": \"user\", \"content\": get_links_user_prompt(website)},\n",
    "        ],\n",
    "    )\n",
    "    result = response.choices[0].message.content\n",
    "    if result is None:\n",
    "        return {\"links\": []}\n",
    "    cleaned_result = result.strip(\"```json\").strip(\"```\")\n",
    "    print(f\"[INFO] Extracted Links JSON:\")\n",
    "    display(Markdown(result))\n",
    "    return json.loads(cleaned_result)"
   ]
  },
  {
   "cell_type": "code",
   "execution_count": 74,
   "id": "f8fa2a20",
   "metadata": {},
   "outputs": [],
   "source": [
    "def get_all_details(url):\n",
    "    result = \"Landing page:\\n\"\n",
    "    \n",
    "    landing_content = WebScraper(url).get_body()\n",
    "    result += landing_content if landing_content else \"[Failed to fetch landing page]\\n\"\n",
    "\n",
    "    links_dict = get_links(url)\n",
    "\n",
    "    for link in links_dict['links']:\n",
    "        result += f\"\\n\\n{link['type'].capitalize()}:\\n\"\n",
    "        link_content = WebScraper(link['url']).get_body()\n",
    "        result += link_content if link_content else f\"[Failed to fetch {link['url']}]\\n\"\n",
    "\n",
    "    return result"
   ]
  },
  {
   "cell_type": "code",
   "execution_count": 75,
   "id": "579c1c93",
   "metadata": {},
   "outputs": [],
   "source": [
    "brochure_system_prompt = \"You are an assistant thaat analyzes the content of several relevant pages from copany website and creates a short brochre about the company for prospective customers, \\\n",
    "    investors. Respond in markdown format. Include details of comppany culture, custumers and careers/jobs if you have the information.\""
   ]
  },
  {
   "cell_type": "code",
   "execution_count": 76,
   "id": "48ed742c",
   "metadata": {},
   "outputs": [],
   "source": [
    "def get_brochure_user_prompt(company_name, url):\n",
    "    user_prompt = f\"You are looking at a company called: {company_name}\\n\"\n",
    "    user_prompt += f\"Here is the content from several relevant pages on their website: {url}\\n\"\n",
    "    user_prompt += get_all_details(url)\n",
    "    user_prompt = user_prompt[:10_000] # Truncate to first 10,000 characters\n",
    "    return user_prompt"
   ]
  },
  {
   "cell_type": "code",
   "execution_count": 77,
   "id": "61761504",
   "metadata": {},
   "outputs": [],
   "source": [
    "def create_brochure(company_name, url):\n",
    "    stream = client.chat.completions.create(\n",
    "        model = MODEL,\n",
    "        messages=[\n",
    "            {\"role\": \"system\", \"content\": brochure_system_prompt},\n",
    "            {\"role\": \"user\", \"content\": get_brochure_user_prompt(company_name, url)},\n",
    "        ],\n",
    "        stream=True\n",
    "    )\n",
    "    response = \"\"\n",
    "    display_handle = display(Markdown(\"\"), display_id=True)\n",
    "    for chunk in stream:\n",
    "        response += chunk.choices[0].delta.content or \"\"\n",
    "        response = response.replace(\"```\", \"\").replace(\"markdown\", \"\")\n",
    "        update_display(Markdown(response), display_id=display_handle.display_id)"
   ]
  },
  {
   "cell_type": "code",
   "execution_count": 78,
   "id": "c5bc3de0",
   "metadata": {},
   "outputs": [
    {
     "name": "stdout",
     "output_type": "stream",
     "text": [
      "[INFO] Extracted Links JSON:\n"
     ]
    },
    {
     "data": {
      "text/markdown": [
       "```json\n",
       "{\n",
       "        \"links\": [\n",
       "            {\"type\": \"about page\", \"url\":\"https://www.anthropic.com/\"},\n",
       "            {\"type\": \"product\", \"url\":\"https://www.anthropic.com/claude\"},\n",
       "            {\"type\": \"product\", \"url\":\"https://www.anthropic.com/claude-code\"},\n",
       "            {\"type\": \"product\", \"url\":\"https://www.anthropic.com/max\"},\n",
       "            {\"type\": \"team\", \"url\":\"https://www.anthropic.com/team\"},\n",
       "            {\"type\": \"enterprise\", \"url\":\"https://www.anthropic.com/enterprise\"},\n",
       "            {\"type\": \"pricing\", \"url\":\"https://www.anthropic.com/pricing\"},\n",
       "            {\"type\": \"download\", \"url\":\"https://claude.ai/download\"},\n",
       "            {\"type\": \"product\", \"url\":\"https://claude.ai/\"},\n",
       "            {\"type\": \"news\", \"url\":\"https://www.anthropic.com/news/claude-character\"},\n",
       "            {\"type\": \"api\", \"url\":\"https://www.anthropic.com/api\"},\n",
       "            {\"type\": \"documentation\", \"url\":\"https://docs.anthropic.com/\"},\n",
       "            {\"type\": \"pricing\", \"url\":\"https://www.anthropic.com/pricing#api\"},\n",
       "            {\"type\": \"console\", \"url\":\"https://console.anthropic.com/\"},\n",
       "            {\"type\": \"documentation\", \"url\":\"https://docs.anthropic.com/en/docs/welcome\"},\n",
       "            {\"type\": \"solutions\", \"url\":\"https://www.anthropic.com/solutions/agents\"},\n",
       "            {\"type\": \"solutions\", \"url\":\"https://www.anthropic.com/solutions/code-modernization\"},\n",
       "            {\"type\": \"solutions\", \"url\":\"https://www.anthropic.com/solutions/coding\"},\n",
       "            {\"type\": \"solutions\", \"url\":\"https://www.anthropic.com/solutions/customer-support\"},\n",
       "            {\"type\": \"solutions\", \"url\":\"https://www.anthropic.com/solutions/education\"},\n",
       "            {\"type\": \"solutions\", \"url\":\"https://www.anthropic.com/solutions/financial-services\"},\n",
       "            {\"type\": \"solutions\", \"url\":\"https://www.anthropic.com/solutions/government\"},\n",
       "            {\"type\": \"customers\", \"url\":\"https://www.anthropic.com/customers\"},\n",
       "            {\"type\": \"research\", \"url\":\"https://www.anthropic.com/research\"},\n",
       "            {\"type\": \"economic index\", \"url\":\"https://www.anthropic.com/economic-index\"},\n",
       "            {\"type\": \"product\", \"url\":\"https://www.anthropic.com/claude/opus\"},\n",
       "            {\"type\": \"product\", \"url\":\"https://www.anthropic.com/claude/sonnet\"},\n",
       "            {\"type\": \"product\", \"url\":\"https://www.anthropic.com/claude/haiku\"},\n",
       "            {\"type\": \"news\", \"url\":\"https://www.anthropic.com/news/visible-extended-thinking\"},\n",
       "            {\"type\": \"transparency\", \"url\":\"https://www.anthropic.com/transparency\"},\n",
       "            {\"type\": \"news\", \"url\":\"https://www.anthropic.com/news/announcing-our-updated-responsible-scaling-policy\"},\n",
       "            {\"type\": \"news\", \"url\":\"https://www.anthropic.com/news/anthropic-achieves-iso-42001-certification-for-responsible-ai\"},\n",
       "            {\"type\": \"engineering\", \"url\":\"https://www.anthropic.com/engineering\"},\n",
       "            {\"type\": \"learn\", \"url\":\"https://www.anthropic.com/learn\"},\n",
       "            {\"type\": \"company\", \"url\":\"https://www.anthropic.com/company\"},\n",
       "            {\"type\": \"careers\", \"url\":\"https://www.anthropic.com/careers\"},\n",
       "            {\"type\": \"events\", \"url\":\"https://www.anthropic.com/events\"},\n",
       "            {\"type\": \"engineering\", \"url\":\"https://www.anthropic.com/engineering/building-effective-agents\"},\n",
       "            {\"type\": \"news\", \"url\":\"https://www.anthropic.com/news\"},\n",
       "            {\"type\": \"download\", \"url\":\"https://claude.ai/login\"},\n",
       "            {\"type\": \"product\", \"url\":\"https://claude.ai/download\"},\n",
       "            {\"type\": \"product\", \"url\":\"https://www.anthropic.com/claude\"},\n",
       "            {\"type\": \"product\", \"url\":\"https://www.anthropic.com/claude-code\"},\n",
       "            {\"type\": \"product\", \"url\":\"https://www.anthropic.com/max\"},\n",
       "            {\"type\": \"team\", \"url\":\"https://www.anthropic.com/team\"},\n",
       "            {\"type\": \"enterprise\", \"url\":\"https://www.anthropic.com/enterprise\"},\n",
       "            {\"type\": \"pricing\", \"url\":\"https://www.anthropic.com/pricing\"},\n",
       "            {\"type\": \"download\", \"url\":\"https://claude.ai/download\"},\n",
       "            {\"type\": \"product\", \"url\":\"https://claude.ai/\"},\n",
       "            {\"type\": \"news\", \"url\":\"https://www.anthropic.com/news/claude-opus-4-1\"},\n",
       "            {\"type\": \"product\", \"url\":\"https://www.anthropic.com/claude/opus\"},\n",
       "            {\"type\": \"product\", \"url\":\"https://www.anthropic.com/claude/sonnet\"},\n",
       "            {\"type\": \"news\", \"url\":\"https://www.anthropic.com/news/core-views-on-ai-safety\"},\n",
       "            {\"type\": \"news\", \"url\":\"https://www.anthropic.com/rsp-updates\"},\n",
       "            {\"type\": \"learn\", \"url\":\"https://www.anthropic.com/learn\"},\n",
       "            {\"type\": \"news\", \"url\":\"https://www.anthropic.com/news/1m-context\"},\n",
       "            {\"type\": \"news\", \"url\":\"https://www.anthropic.com/news/claude-opus-4-1\"},\n",
       "            {\"type\": \"research\", \"url\":\"https://www.anthropic.com/research/project-vend-1\"},\n",
       "            {\"type\": \"research\", \"url\":\"https://www.anthropic.com/research/agentic-misalignment\"},\n",
       "            {\"type\": \"news\", \"url\":\"https://www.anthropic.com/news/claude-4\"},\n",
       "            {\"type\": \"research\", \"url\":\"https://www.anthropic.com/research/tracing-thoughts-language-model\"},\n",
       "            {\"type\": \"economic index\", \"url\":\"https://www.anthropic.com/economic-index\"},\n",
       "            {\"type\": \"jobs\", \"url\":\"https://www.anthropic.com/jobs\"},\n",
       "            {\"type\": \"partners\", \"url\":\"https://www.anthropic.com/partners/mcp\"},\n",
       "            {\"type\": \"partners\", \"url\":\"https://www.anthropic.com/partners/powered-by-claude\"},\n",
       "            {\"type\": \"company\", \"url\":\"https://www.anthropic.com/company\"},\n",
       "            {\"type\": \"careers\", \"url\":\"https://www.anthropic.com/careers\"},\n",
       "            {\"type\": \"events\", \"url\":\"https://www.anthropic.com/events\"},\n",
       "            {\"type\": \"news\", \"url\":\"https://www.anthropic.com/news\"},\n",
       "            {\"type\": \"startups\", \"url\":\"https://www.anthropic.com/startups\"},\n",
       "            {\"type\": \"status\", \"url\":\"https://status.anthropic.com/\"},\n",
       "            {\"type\": \"countries\", \"url\":\"https://www.anthropic.com/supported-countries\"},\n",
       "            {\"type\": \"support\", \"url\":\"https://support.anthropic.com/\"}\n",
       "        ]\n",
       "}\n",
       "```"
      ],
      "text/plain": [
       "<IPython.core.display.Markdown object>"
      ]
     },
     "metadata": {},
     "output_type": "display_data"
    },
    {
     "name": "stdout",
     "output_type": "stream",
     "text": [
      "[WARN] Failed to fetch https://claude.ai/download - Status code: 403\n",
      "[WARN] Failed to fetch https://claude.ai/ - Status code: 403\n",
      "[WARN] Failed to fetch https://console.anthropic.com/ - Status code: 403\n",
      "[WARN] Failed to fetch https://claude.ai/login - Status code: 403\n",
      "[WARN] Failed to fetch https://claude.ai/download - Status code: 403\n",
      "[WARN] Failed to fetch https://claude.ai/download - Status code: 403\n",
      "[WARN] Failed to fetch https://claude.ai/ - Status code: 403\n"
     ]
    },
    {
     "data": {
      "text/markdown": [
       "\n",
       "# Anthropic: Building AI for a Safer Future\n",
       "\n",
       "## About Us\n",
       "\n",
       "Anthropic is an AI research and deployment company dedicated to building safe and beneficial artificial intelligence. Founded on the principle that powerful AI requires careful consideration of its societal impact, we prioritize human well-being in every aspect of our work – from research and policy to product design. We strive to demonstrate what responsible AI development looks like in practice. \n",
       "\n",
       "## Our Core Values & Approach\n",
       "\n",
       "*   **AI Safety:**  Our core mission is to build AI that serves humanity's long-term well-being, proactively addressing potential risks and unintended consequences.\n",
       "*   **Responsible Scaling:** We are committed to developing and deploying AI responsibly, with a focus on safety and societal impact. Our Responsible Scaling Policy outlines our approach.\n",
       "*   **Transparency & Accountability:**  We believe in open communication about our research, policies, and product design. \n",
       "*   **Research-Driven:** Anthropic invests heavily in cutting-edge AI research to advance the field safely and effectively.\n",
       "\n",
       "## Key Products & Technologies\n",
       "\n",
       "### Claude\n",
       "\n",
       "Claude is a family of large language models designed for a wide range of applications.  The latest models include:\n",
       "\n",
       "*   **Claude Opus 4.1:** Our most intelligent model yet, offering enhanced capabilities in coding, AI agents, and handling complex tasks.\n",
       "*   **Claude Sonnet 4:** A powerful model excelling at both general and specialized tasks. Notably includes a version with a 1M context window.\n",
       "*   **Claude Haiku 3.5:**  A lightweight model ideal for quick and efficient tasks.\n",
       "\n",
       "### Claude Code\n",
       "\n",
       "Designed specifically for coding, Claude Code helps developers build better software faster. It excels at code generation, understanding, and debugging.\n",
       "\n",
       "### API Platform\n",
       "\n",
       "Our API platform allows developers to integrate Claude's powerful AI capabilities into their own applications and workflows.\n",
       "\n",
       "\n",
       "## Solutions & Applications\n",
       "\n",
       "Anthropic's technology is being applied across various industries:\n",
       "\n",
       "*   **AI Agents:** Building intelligent agents that can automate complex tasks.\n",
       "*   **Code Modernization:** Assisting with the modernization of existing codebases.\n",
       "*   **Customer Support:** Enhancing customer service interactions.\n",
       "*   **Education:** Supporting innovative learning experiences.\n",
       "*  **Financial Services, Government & More**: We tailor solutions for a variety of sectors\n",
       "\n",
       "## Careers\n",
       "\n",
       "Anthropic is growing! If you're passionate about AI and making a positive impact on the world, we encourage you to explore career opportunities: [See open roles](https://www.anthropic.com/careers). \n",
       "\n",
       "##  Learn More\n",
       "\n",
       "*   **Anthropic Academy:** A resource for learning how to build with Claude.\n",
       "*   **Research:** Explore our latest research findings and publications.\n",
       "* **News**: Stay updated on Anthropic's latest announcements, including model releases and policy updates.\n",
       "\n",
       "\n",
       "\n",
       "## Contact Us\n",
       "\n",
       "Interested in learning more about Anthropic or exploring potential partnerships?  Please [Speak with sales](https://www.anthropic.com/contact).\n",
       "\n",
       "\n"
      ],
      "text/plain": [
       "<IPython.core.display.Markdown object>"
      ]
     },
     "metadata": {},
     "output_type": "display_data"
    }
   ],
   "source": [
    "create_brochure(\"Anthropic\", \"https://www.anthropic.com/\")"
   ]
  }
 ],
 "metadata": {
  "kernelspec": {
   "display_name": "Python 3",
   "language": "python",
   "name": "python3"
  },
  "language_info": {
   "codemirror_mode": {
    "name": "ipython",
    "version": 3
   },
   "file_extension": ".py",
   "mimetype": "text/x-python",
   "name": "python",
   "nbconvert_exporter": "python",
   "pygments_lexer": "ipython3",
   "version": "3.12.3"
  }
 },
 "nbformat": 4,
 "nbformat_minor": 5
}
